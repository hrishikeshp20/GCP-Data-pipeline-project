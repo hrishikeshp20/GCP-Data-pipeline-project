{
 "cells": [
  {
   "attachments": {},
   "cell_type": "markdown",
   "id": "c7a78afb-eeab-49a3-9cea-271a2af1669c",
   "metadata": {},
   "source": [
    "Tools and technologies used in this project-\n",
    "1. Cloud - Google\n",
    "2. Astro CLI\n",
    "3. Docker\n",
    "4. Airflow"
   ]
  },
  {
   "cell_type": "code",
   "execution_count": null,
   "id": "a19dc90d-3f26-41ae-9f8a-b85acb04106c",
   "metadata": {},
   "outputs": [],
   "source": []
  }
 ],
 "metadata": {
  "kernelspec": {
   "display_name": "Python 3 (ipykernel)",
   "language": "python",
   "name": "python3"
  },
  "language_info": {
   "codemirror_mode": {
    "name": "ipython",
    "version": 3
   },
   "file_extension": ".py",
   "mimetype": "text/x-python",
   "name": "python",
   "nbconvert_exporter": "python",
   "pygments_lexer": "ipython3",
   "version": "3.11.3"
  }
 },
 "nbformat": 4,
 "nbformat_minor": 5
}
